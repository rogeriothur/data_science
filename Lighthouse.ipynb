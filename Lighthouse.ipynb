{
  "nbformat": 4,
  "nbformat_minor": 0,
  "metadata": {
    "colab": {
      "name": "Lighthouse.ipynb",
      "provenance": [],
      "collapsed_sections": [
        "HsGVTVmGy7UN",
        "D2URy-Y1fO1X",
        "5G2BrZMx85gY"
      ],
      "authorship_tag": "ABX9TyMNuIYRNX/z/b/pcjofFzDY",
      "include_colab_link": true
    },
    "kernelspec": {
      "name": "python3",
      "display_name": "Python 3"
    },
    "language_info": {
      "name": "python"
    }
  },
  "cells": [
    {
      "cell_type": "markdown",
      "metadata": {
        "id": "view-in-github",
        "colab_type": "text"
      },
      "source": [
        "<a href=\"https://colab.research.google.com/github/rogeriothur/data_science/blob/main/Lighthouse.ipynb\" target=\"_parent\"><img src=\"https://colab.research.google.com/assets/colab-badge.svg\" alt=\"Open In Colab\"/></a>"
      ]
    },
    {
      "cell_type": "markdown",
      "metadata": {
        "id": "HsGVTVmGy7UN"
      },
      "source": [
        "# **Previsão (churn) de clientes do banco**"
      ]
    },
    {
      "cell_type": "markdown",
      "metadata": {
        "id": "9As4wPCk6AZj"
      },
      "source": [
        "## Contextualização do problema\n",
        "Neste problema, o objetivo é prever os clientes que irão sair do banco.\n",
        "\n",
        "\n",
        "> OBJETIVO: Criar um modelo que classifique os clientes que vão sair do banco\n",
        "\n",
        "Espera-se que o modelo seja capaz de minimizar as perdas de clientes\n",
        "\n"
      ]
    },
    {
      "cell_type": "markdown",
      "metadata": {
        "id": "8xzUvMhjFFrg"
      },
      "source": [
        "## Importando bibliotecas\n",
        "## Obtendo os dados"
      ]
    },
    {
      "cell_type": "code",
      "metadata": {
        "id": "XhM9VPI-DzNW"
      },
      "source": [
        "import pandas as pd\n",
        "import numpy as np\n",
        "\n",
        "import matplotlib.pyplot as plt\n",
        "import seaborn as sns\n",
        "sns.set_style('darkgrid')\n",
        "\n",
        "import xgboost\n",
        "from sklearn.model_selection import train_test_split\n",
        "from sklearn.metrics import classification_report, confusion_matrix, accuracy_score\n",
        "\n",
        "from imblearn.over_sampling import SMOTE\n",
        "from imblearn.under_sampling import NearMiss\n",
        "\n",
        "import warnings\n",
        "warnings.filterwarnings('ignore')"
      ],
      "execution_count": 1,
      "outputs": []
    },
    {
      "cell_type": "code",
      "metadata": {
        "id": "8SX_ubOvEZLa"
      },
      "source": [
        "df = pd.read_csv('Abandono_clientes.csv')\n",
        "df_test = pd.read_csv('Abandono_teste.csv', sep=';')"
      ],
      "execution_count": 2,
      "outputs": []
    },
    {
      "cell_type": "markdown",
      "metadata": {
        "id": "Q1gjSDbsGAaP"
      },
      "source": [
        "## Análise de dados"
      ]
    },
    {
      "cell_type": "markdown",
      "metadata": {
        "id": "YlOROdNaGGx-"
      },
      "source": [
        "**Dicionário das variáveis**\n",
        "\n",
        "* `RowNumber` - número do registro (linha)\n",
        "* `CustomerId` - identificação do cliente\n",
        "* `Surname` - sobrenome do cliente\n",
        "* `CreditScore` - pontuação de crédito\n",
        "* `Geography` - localização do cliente (país)\n",
        "* `Gender` - gênero do cliente\n",
        "* `Age` - idade do cliente\n",
        "* `Tenure` - tempo em que é cliente (anos)\n",
        "* `Balance` - saldo do cliente\n",
        "* `NumOfProducts` - número de produtos que o cliente comprou por meio do banco\n",
        "* `HasCrCard` - cliente possui cartão de crédito? (boolean)\n",
        "* `IsActiveMember` - é cliente ativo? (boolean)\n",
        "* `EstimatedSalary` - salário estimado\n",
        "* `Exited` - saiu do banco? (boolean)"
      ]
    },
    {
      "cell_type": "markdown",
      "metadata": {
        "id": "y892DlAiMpmh"
      },
      "source": [
        "**Informações que o dataset forneceu**\n",
        "\n",
        "* `RowNumber` - não tem efeito na saída do cliente\n",
        "* `CustomerId` - não tem efeito na saída do cliente\n",
        "* `Surname` - não tem efeito na saída do cliente\n",
        "* `CreditScore` - tem efeito na saída do cliente, uma vez que um cliente com uma pontuação de crédito mais alta tem menos probabilidade de deixar o banco\n",
        "* `Geography` - pode afetar sua decisão de deixar o banco\n",
        "* `Gender` - interessante explorar se desempenha um papel na saída do cliente\n",
        "* `Age` - clientes mais velhos têm menos probabilidade de sair do banco\n",
        "* `Tenure` - normalmente os clientes com mais tempo de casa são mais leais e menos propenso a deixar o banco\n",
        "* `Balance` - clientes com saldos mais altos têm menos probabilidade de deixar o banco\n",
        "* `HasCrCard` - clientes com cartão de crédito têm menos probabilidade de deixar o banco\n",
        "* `IsActiveMember` - clientes ativos tem menos probabilidade de deixar o banco \n",
        "* `EstimatedSalary` - similar ao saldo (balance)"
      ]
    },
    {
      "cell_type": "markdown",
      "metadata": {
        "id": "fgDTYuJYD7ru"
      },
      "source": [
        "### Conhecendo os dados"
      ]
    },
    {
      "cell_type": "code",
      "metadata": {
        "colab": {
          "base_uri": "https://localhost:8080/",
          "height": 206
        },
        "id": "_nnwiqikGI4u",
        "outputId": "4a5389cd-a0d0-4e11-fb28-718e9caf34fc"
      },
      "source": [
        "df.head()"
      ],
      "execution_count": 3,
      "outputs": [
        {
          "output_type": "execute_result",
          "data": {
            "text/html": [
              "<div>\n",
              "<style scoped>\n",
              "    .dataframe tbody tr th:only-of-type {\n",
              "        vertical-align: middle;\n",
              "    }\n",
              "\n",
              "    .dataframe tbody tr th {\n",
              "        vertical-align: top;\n",
              "    }\n",
              "\n",
              "    .dataframe thead th {\n",
              "        text-align: right;\n",
              "    }\n",
              "</style>\n",
              "<table border=\"1\" class=\"dataframe\">\n",
              "  <thead>\n",
              "    <tr style=\"text-align: right;\">\n",
              "      <th></th>\n",
              "      <th>RowNumber</th>\n",
              "      <th>CustomerId</th>\n",
              "      <th>Surname</th>\n",
              "      <th>CreditScore</th>\n",
              "      <th>Geography</th>\n",
              "      <th>Gender</th>\n",
              "      <th>Age</th>\n",
              "      <th>Tenure</th>\n",
              "      <th>Balance</th>\n",
              "      <th>NumOfProducts</th>\n",
              "      <th>HasCrCard</th>\n",
              "      <th>IsActiveMember</th>\n",
              "      <th>EstimatedSalary</th>\n",
              "      <th>Exited</th>\n",
              "    </tr>\n",
              "  </thead>\n",
              "  <tbody>\n",
              "    <tr>\n",
              "      <th>0</th>\n",
              "      <td>1</td>\n",
              "      <td>15634602</td>\n",
              "      <td>Hargrave</td>\n",
              "      <td>619</td>\n",
              "      <td>France</td>\n",
              "      <td>Female</td>\n",
              "      <td>42</td>\n",
              "      <td>2</td>\n",
              "      <td>0.00</td>\n",
              "      <td>1</td>\n",
              "      <td>1</td>\n",
              "      <td>1</td>\n",
              "      <td>101348.88</td>\n",
              "      <td>1</td>\n",
              "    </tr>\n",
              "    <tr>\n",
              "      <th>1</th>\n",
              "      <td>2</td>\n",
              "      <td>15647311</td>\n",
              "      <td>Hill</td>\n",
              "      <td>608</td>\n",
              "      <td>Spain</td>\n",
              "      <td>Female</td>\n",
              "      <td>41</td>\n",
              "      <td>1</td>\n",
              "      <td>83807.86</td>\n",
              "      <td>1</td>\n",
              "      <td>0</td>\n",
              "      <td>1</td>\n",
              "      <td>112542.58</td>\n",
              "      <td>0</td>\n",
              "    </tr>\n",
              "    <tr>\n",
              "      <th>2</th>\n",
              "      <td>3</td>\n",
              "      <td>15619304</td>\n",
              "      <td>Onio</td>\n",
              "      <td>502</td>\n",
              "      <td>France</td>\n",
              "      <td>Female</td>\n",
              "      <td>42</td>\n",
              "      <td>8</td>\n",
              "      <td>159660.80</td>\n",
              "      <td>3</td>\n",
              "      <td>1</td>\n",
              "      <td>0</td>\n",
              "      <td>113931.57</td>\n",
              "      <td>1</td>\n",
              "    </tr>\n",
              "    <tr>\n",
              "      <th>3</th>\n",
              "      <td>4</td>\n",
              "      <td>15701354</td>\n",
              "      <td>Boni</td>\n",
              "      <td>699</td>\n",
              "      <td>France</td>\n",
              "      <td>Female</td>\n",
              "      <td>39</td>\n",
              "      <td>1</td>\n",
              "      <td>0.00</td>\n",
              "      <td>2</td>\n",
              "      <td>0</td>\n",
              "      <td>0</td>\n",
              "      <td>93826.63</td>\n",
              "      <td>0</td>\n",
              "    </tr>\n",
              "    <tr>\n",
              "      <th>4</th>\n",
              "      <td>5</td>\n",
              "      <td>15737888</td>\n",
              "      <td>Mitchell</td>\n",
              "      <td>850</td>\n",
              "      <td>Spain</td>\n",
              "      <td>Female</td>\n",
              "      <td>43</td>\n",
              "      <td>2</td>\n",
              "      <td>125510.82</td>\n",
              "      <td>1</td>\n",
              "      <td>1</td>\n",
              "      <td>1</td>\n",
              "      <td>79084.10</td>\n",
              "      <td>0</td>\n",
              "    </tr>\n",
              "  </tbody>\n",
              "</table>\n",
              "</div>"
            ],
            "text/plain": [
              "   RowNumber  CustomerId   Surname  ...  IsActiveMember EstimatedSalary Exited\n",
              "0          1    15634602  Hargrave  ...               1       101348.88      1\n",
              "1          2    15647311      Hill  ...               1       112542.58      0\n",
              "2          3    15619304      Onio  ...               0       113931.57      1\n",
              "3          4    15701354      Boni  ...               0        93826.63      0\n",
              "4          5    15737888  Mitchell  ...               1        79084.10      0\n",
              "\n",
              "[5 rows x 14 columns]"
            ]
          },
          "metadata": {},
          "execution_count": 3
        }
      ]
    },
    {
      "cell_type": "code",
      "metadata": {
        "colab": {
          "base_uri": "https://localhost:8080/",
          "height": 206
        },
        "id": "XXt7LeQ9r23R",
        "outputId": "244fc3a3-753d-4add-d49c-2d728480b819"
      },
      "source": [
        "df_test.head()"
      ],
      "execution_count": 4,
      "outputs": [
        {
          "output_type": "execute_result",
          "data": {
            "text/html": [
              "<div>\n",
              "<style scoped>\n",
              "    .dataframe tbody tr th:only-of-type {\n",
              "        vertical-align: middle;\n",
              "    }\n",
              "\n",
              "    .dataframe tbody tr th {\n",
              "        vertical-align: top;\n",
              "    }\n",
              "\n",
              "    .dataframe thead th {\n",
              "        text-align: right;\n",
              "    }\n",
              "</style>\n",
              "<table border=\"1\" class=\"dataframe\">\n",
              "  <thead>\n",
              "    <tr style=\"text-align: right;\">\n",
              "      <th></th>\n",
              "      <th>RowNumber</th>\n",
              "      <th>CustomerId</th>\n",
              "      <th>Surname</th>\n",
              "      <th>CreditScore</th>\n",
              "      <th>Geography</th>\n",
              "      <th>Gender</th>\n",
              "      <th>Age</th>\n",
              "      <th>Tenure</th>\n",
              "      <th>Balance</th>\n",
              "      <th>NumOfProducts</th>\n",
              "      <th>HasCrCard</th>\n",
              "      <th>IsActiveMember</th>\n",
              "      <th>EstimatedSalary</th>\n",
              "    </tr>\n",
              "  </thead>\n",
              "  <tbody>\n",
              "    <tr>\n",
              "      <th>0</th>\n",
              "      <td>10001</td>\n",
              "      <td>15798485</td>\n",
              "      <td>Copley</td>\n",
              "      <td>565</td>\n",
              "      <td>France</td>\n",
              "      <td>Male</td>\n",
              "      <td>31</td>\n",
              "      <td>1</td>\n",
              "      <td>0.00</td>\n",
              "      <td>1</td>\n",
              "      <td>0</td>\n",
              "      <td>1</td>\n",
              "      <td>20443.08</td>\n",
              "    </tr>\n",
              "    <tr>\n",
              "      <th>1</th>\n",
              "      <td>10002</td>\n",
              "      <td>15588959</td>\n",
              "      <td>T'ang</td>\n",
              "      <td>569</td>\n",
              "      <td>France</td>\n",
              "      <td>Male</td>\n",
              "      <td>34</td>\n",
              "      <td>4</td>\n",
              "      <td>0.00</td>\n",
              "      <td>1</td>\n",
              "      <td>0</td>\n",
              "      <td>1</td>\n",
              "      <td>4045.90</td>\n",
              "    </tr>\n",
              "    <tr>\n",
              "      <th>2</th>\n",
              "      <td>10003</td>\n",
              "      <td>15624896</td>\n",
              "      <td>Ku</td>\n",
              "      <td>669</td>\n",
              "      <td>France</td>\n",
              "      <td>Female</td>\n",
              "      <td>20</td>\n",
              "      <td>7</td>\n",
              "      <td>0.00</td>\n",
              "      <td>2</td>\n",
              "      <td>1</td>\n",
              "      <td>0</td>\n",
              "      <td>128838.67</td>\n",
              "    </tr>\n",
              "    <tr>\n",
              "      <th>3</th>\n",
              "      <td>10004</td>\n",
              "      <td>15639629</td>\n",
              "      <td>McConnan</td>\n",
              "      <td>694</td>\n",
              "      <td>France</td>\n",
              "      <td>Male</td>\n",
              "      <td>39</td>\n",
              "      <td>4</td>\n",
              "      <td>173255.48</td>\n",
              "      <td>1</td>\n",
              "      <td>1</td>\n",
              "      <td>1</td>\n",
              "      <td>81293.10</td>\n",
              "    </tr>\n",
              "    <tr>\n",
              "      <th>4</th>\n",
              "      <td>10005</td>\n",
              "      <td>15638852</td>\n",
              "      <td>Ts'ui</td>\n",
              "      <td>504</td>\n",
              "      <td>Spain</td>\n",
              "      <td>Male</td>\n",
              "      <td>28</td>\n",
              "      <td>10</td>\n",
              "      <td>109291.36</td>\n",
              "      <td>1</td>\n",
              "      <td>1</td>\n",
              "      <td>1</td>\n",
              "      <td>187593.15</td>\n",
              "    </tr>\n",
              "  </tbody>\n",
              "</table>\n",
              "</div>"
            ],
            "text/plain": [
              "   RowNumber  CustomerId   Surname  ...  HasCrCard IsActiveMember EstimatedSalary\n",
              "0      10001    15798485    Copley  ...          0              1        20443.08\n",
              "1      10002    15588959     T'ang  ...          0              1         4045.90\n",
              "2      10003    15624896        Ku  ...          1              0       128838.67\n",
              "3      10004    15639629  McConnan  ...          1              1        81293.10\n",
              "4      10005    15638852     Ts'ui  ...          1              1       187593.15\n",
              "\n",
              "[5 rows x 13 columns]"
            ]
          },
          "metadata": {},
          "execution_count": 4
        }
      ]
    },
    {
      "cell_type": "markdown",
      "metadata": {
        "id": "Rqd1HuyMcDlK"
      },
      "source": [
        "### Quantos atributos (variáveis) e quantas entradas o nosso conjunto de dados possui?\n",
        "### Quais os tipos das variáveis?\n",
        "### Qual a porcentagem de valores ausentes no *dataset*?\n",
        "\n",
        "Vamos prosseguir e identificar a quantidade de entradas que nosso conjunto de dados possui e ver os tipos de cada coluna"
      ]
    },
    {
      "cell_type": "code",
      "metadata": {
        "colab": {
          "base_uri": "https://localhost:8080/",
          "height": 300
        },
        "id": "M0RMmPZBj_zL",
        "outputId": "5f512a23-f814-4a61-d9fc-668d0c428683"
      },
      "source": [
        "df.describe()"
      ],
      "execution_count": 5,
      "outputs": [
        {
          "output_type": "execute_result",
          "data": {
            "text/html": [
              "<div>\n",
              "<style scoped>\n",
              "    .dataframe tbody tr th:only-of-type {\n",
              "        vertical-align: middle;\n",
              "    }\n",
              "\n",
              "    .dataframe tbody tr th {\n",
              "        vertical-align: top;\n",
              "    }\n",
              "\n",
              "    .dataframe thead th {\n",
              "        text-align: right;\n",
              "    }\n",
              "</style>\n",
              "<table border=\"1\" class=\"dataframe\">\n",
              "  <thead>\n",
              "    <tr style=\"text-align: right;\">\n",
              "      <th></th>\n",
              "      <th>RowNumber</th>\n",
              "      <th>CustomerId</th>\n",
              "      <th>CreditScore</th>\n",
              "      <th>Age</th>\n",
              "      <th>Tenure</th>\n",
              "      <th>Balance</th>\n",
              "      <th>NumOfProducts</th>\n",
              "      <th>HasCrCard</th>\n",
              "      <th>IsActiveMember</th>\n",
              "      <th>EstimatedSalary</th>\n",
              "      <th>Exited</th>\n",
              "    </tr>\n",
              "  </thead>\n",
              "  <tbody>\n",
              "    <tr>\n",
              "      <th>count</th>\n",
              "      <td>10000.00000</td>\n",
              "      <td>1.000000e+04</td>\n",
              "      <td>10000.000000</td>\n",
              "      <td>10000.000000</td>\n",
              "      <td>10000.000000</td>\n",
              "      <td>10000.000000</td>\n",
              "      <td>10000.000000</td>\n",
              "      <td>10000.00000</td>\n",
              "      <td>10000.000000</td>\n",
              "      <td>10000.000000</td>\n",
              "      <td>10000.000000</td>\n",
              "    </tr>\n",
              "    <tr>\n",
              "      <th>mean</th>\n",
              "      <td>5000.50000</td>\n",
              "      <td>1.569094e+07</td>\n",
              "      <td>650.528800</td>\n",
              "      <td>38.921800</td>\n",
              "      <td>5.012800</td>\n",
              "      <td>76485.889288</td>\n",
              "      <td>1.530200</td>\n",
              "      <td>0.70550</td>\n",
              "      <td>0.515100</td>\n",
              "      <td>100090.239881</td>\n",
              "      <td>0.203700</td>\n",
              "    </tr>\n",
              "    <tr>\n",
              "      <th>std</th>\n",
              "      <td>2886.89568</td>\n",
              "      <td>7.193619e+04</td>\n",
              "      <td>96.653299</td>\n",
              "      <td>10.487806</td>\n",
              "      <td>2.892174</td>\n",
              "      <td>62397.405202</td>\n",
              "      <td>0.581654</td>\n",
              "      <td>0.45584</td>\n",
              "      <td>0.499797</td>\n",
              "      <td>57510.492818</td>\n",
              "      <td>0.402769</td>\n",
              "    </tr>\n",
              "    <tr>\n",
              "      <th>min</th>\n",
              "      <td>1.00000</td>\n",
              "      <td>1.556570e+07</td>\n",
              "      <td>350.000000</td>\n",
              "      <td>18.000000</td>\n",
              "      <td>0.000000</td>\n",
              "      <td>0.000000</td>\n",
              "      <td>1.000000</td>\n",
              "      <td>0.00000</td>\n",
              "      <td>0.000000</td>\n",
              "      <td>11.580000</td>\n",
              "      <td>0.000000</td>\n",
              "    </tr>\n",
              "    <tr>\n",
              "      <th>25%</th>\n",
              "      <td>2500.75000</td>\n",
              "      <td>1.562853e+07</td>\n",
              "      <td>584.000000</td>\n",
              "      <td>32.000000</td>\n",
              "      <td>3.000000</td>\n",
              "      <td>0.000000</td>\n",
              "      <td>1.000000</td>\n",
              "      <td>0.00000</td>\n",
              "      <td>0.000000</td>\n",
              "      <td>51002.110000</td>\n",
              "      <td>0.000000</td>\n",
              "    </tr>\n",
              "    <tr>\n",
              "      <th>50%</th>\n",
              "      <td>5000.50000</td>\n",
              "      <td>1.569074e+07</td>\n",
              "      <td>652.000000</td>\n",
              "      <td>37.000000</td>\n",
              "      <td>5.000000</td>\n",
              "      <td>97198.540000</td>\n",
              "      <td>1.000000</td>\n",
              "      <td>1.00000</td>\n",
              "      <td>1.000000</td>\n",
              "      <td>100193.915000</td>\n",
              "      <td>0.000000</td>\n",
              "    </tr>\n",
              "    <tr>\n",
              "      <th>75%</th>\n",
              "      <td>7500.25000</td>\n",
              "      <td>1.575323e+07</td>\n",
              "      <td>718.000000</td>\n",
              "      <td>44.000000</td>\n",
              "      <td>7.000000</td>\n",
              "      <td>127644.240000</td>\n",
              "      <td>2.000000</td>\n",
              "      <td>1.00000</td>\n",
              "      <td>1.000000</td>\n",
              "      <td>149388.247500</td>\n",
              "      <td>0.000000</td>\n",
              "    </tr>\n",
              "    <tr>\n",
              "      <th>max</th>\n",
              "      <td>10000.00000</td>\n",
              "      <td>1.581569e+07</td>\n",
              "      <td>850.000000</td>\n",
              "      <td>92.000000</td>\n",
              "      <td>10.000000</td>\n",
              "      <td>250898.090000</td>\n",
              "      <td>4.000000</td>\n",
              "      <td>1.00000</td>\n",
              "      <td>1.000000</td>\n",
              "      <td>199992.480000</td>\n",
              "      <td>1.000000</td>\n",
              "    </tr>\n",
              "  </tbody>\n",
              "</table>\n",
              "</div>"
            ],
            "text/plain": [
              "         RowNumber    CustomerId  ...  EstimatedSalary        Exited\n",
              "count  10000.00000  1.000000e+04  ...     10000.000000  10000.000000\n",
              "mean    5000.50000  1.569094e+07  ...    100090.239881      0.203700\n",
              "std     2886.89568  7.193619e+04  ...     57510.492818      0.402769\n",
              "min        1.00000  1.556570e+07  ...        11.580000      0.000000\n",
              "25%     2500.75000  1.562853e+07  ...     51002.110000      0.000000\n",
              "50%     5000.50000  1.569074e+07  ...    100193.915000      0.000000\n",
              "75%     7500.25000  1.575323e+07  ...    149388.247500      0.000000\n",
              "max    10000.00000  1.581569e+07  ...    199992.480000      1.000000\n",
              "\n",
              "[8 rows x 11 columns]"
            ]
          },
          "metadata": {},
          "execution_count": 5
        }
      ]
    },
    {
      "cell_type": "code",
      "metadata": {
        "id": "UuhGcuaDbZGF"
      },
      "source": [
        "def eda(df):\n",
        "    \"\"\"\n",
        "    Gera uma dataframe com informações relevantes sobre o mesmo.\n",
        "    Generates a dataframe with relevant information about it\n",
        "    \n",
        "    :param df: pd.DataFrame para ser realizada a exploração\n",
        "    :param df: pd.DataFrameto be explored\n",
        "    \"\"\"\n",
        "    \n",
        "    explorar = pd.DataFrame({\n",
        "        'tipo' : df.dtypes,\n",
        "        'quantidade_nula' : df.isnull().sum()\n",
        "    })\n",
        "    \n",
        "    explorar['porcentagem_nula'] = np.round((explorar.quantidade_nula / df.shape[0]) * 100, 4)\n",
        "    \n",
        "    display(f'Entradas: {df.shape[0]}')\n",
        "    display(f'Variáveis: {df.shape[1]}')\n",
        "    \n",
        "    return explorar.sort_values(by='quantidade_nula', ascending=False)"
      ],
      "execution_count": 6,
      "outputs": []
    },
    {
      "cell_type": "code",
      "metadata": {
        "colab": {
          "base_uri": "https://localhost:8080/",
          "height": 525
        },
        "id": "x23nIsGybz5E",
        "outputId": "4f36d454-4729-4718-c12e-fa10b5337aeb"
      },
      "source": [
        "eda(df)"
      ],
      "execution_count": 7,
      "outputs": [
        {
          "output_type": "display_data",
          "data": {
            "application/vnd.google.colaboratory.intrinsic+json": {
              "type": "string"
            },
            "text/plain": [
              "'Entradas: 10000'"
            ]
          },
          "metadata": {}
        },
        {
          "output_type": "display_data",
          "data": {
            "application/vnd.google.colaboratory.intrinsic+json": {
              "type": "string"
            },
            "text/plain": [
              "'Variáveis: 14'"
            ]
          },
          "metadata": {}
        },
        {
          "output_type": "execute_result",
          "data": {
            "text/html": [
              "<div>\n",
              "<style scoped>\n",
              "    .dataframe tbody tr th:only-of-type {\n",
              "        vertical-align: middle;\n",
              "    }\n",
              "\n",
              "    .dataframe tbody tr th {\n",
              "        vertical-align: top;\n",
              "    }\n",
              "\n",
              "    .dataframe thead th {\n",
              "        text-align: right;\n",
              "    }\n",
              "</style>\n",
              "<table border=\"1\" class=\"dataframe\">\n",
              "  <thead>\n",
              "    <tr style=\"text-align: right;\">\n",
              "      <th></th>\n",
              "      <th>tipo</th>\n",
              "      <th>quantidade_nula</th>\n",
              "      <th>porcentagem_nula</th>\n",
              "    </tr>\n",
              "  </thead>\n",
              "  <tbody>\n",
              "    <tr>\n",
              "      <th>RowNumber</th>\n",
              "      <td>int64</td>\n",
              "      <td>0</td>\n",
              "      <td>0.0</td>\n",
              "    </tr>\n",
              "    <tr>\n",
              "      <th>CustomerId</th>\n",
              "      <td>int64</td>\n",
              "      <td>0</td>\n",
              "      <td>0.0</td>\n",
              "    </tr>\n",
              "    <tr>\n",
              "      <th>Surname</th>\n",
              "      <td>object</td>\n",
              "      <td>0</td>\n",
              "      <td>0.0</td>\n",
              "    </tr>\n",
              "    <tr>\n",
              "      <th>CreditScore</th>\n",
              "      <td>int64</td>\n",
              "      <td>0</td>\n",
              "      <td>0.0</td>\n",
              "    </tr>\n",
              "    <tr>\n",
              "      <th>Geography</th>\n",
              "      <td>object</td>\n",
              "      <td>0</td>\n",
              "      <td>0.0</td>\n",
              "    </tr>\n",
              "    <tr>\n",
              "      <th>Gender</th>\n",
              "      <td>object</td>\n",
              "      <td>0</td>\n",
              "      <td>0.0</td>\n",
              "    </tr>\n",
              "    <tr>\n",
              "      <th>Age</th>\n",
              "      <td>int64</td>\n",
              "      <td>0</td>\n",
              "      <td>0.0</td>\n",
              "    </tr>\n",
              "    <tr>\n",
              "      <th>Tenure</th>\n",
              "      <td>int64</td>\n",
              "      <td>0</td>\n",
              "      <td>0.0</td>\n",
              "    </tr>\n",
              "    <tr>\n",
              "      <th>Balance</th>\n",
              "      <td>float64</td>\n",
              "      <td>0</td>\n",
              "      <td>0.0</td>\n",
              "    </tr>\n",
              "    <tr>\n",
              "      <th>NumOfProducts</th>\n",
              "      <td>int64</td>\n",
              "      <td>0</td>\n",
              "      <td>0.0</td>\n",
              "    </tr>\n",
              "    <tr>\n",
              "      <th>HasCrCard</th>\n",
              "      <td>int64</td>\n",
              "      <td>0</td>\n",
              "      <td>0.0</td>\n",
              "    </tr>\n",
              "    <tr>\n",
              "      <th>IsActiveMember</th>\n",
              "      <td>int64</td>\n",
              "      <td>0</td>\n",
              "      <td>0.0</td>\n",
              "    </tr>\n",
              "    <tr>\n",
              "      <th>EstimatedSalary</th>\n",
              "      <td>float64</td>\n",
              "      <td>0</td>\n",
              "      <td>0.0</td>\n",
              "    </tr>\n",
              "    <tr>\n",
              "      <th>Exited</th>\n",
              "      <td>int64</td>\n",
              "      <td>0</td>\n",
              "      <td>0.0</td>\n",
              "    </tr>\n",
              "  </tbody>\n",
              "</table>\n",
              "</div>"
            ],
            "text/plain": [
              "                    tipo  quantidade_nula  porcentagem_nula\n",
              "RowNumber          int64                0               0.0\n",
              "CustomerId         int64                0               0.0\n",
              "Surname           object                0               0.0\n",
              "CreditScore        int64                0               0.0\n",
              "Geography         object                0               0.0\n",
              "Gender            object                0               0.0\n",
              "Age                int64                0               0.0\n",
              "Tenure             int64                0               0.0\n",
              "Balance          float64                0               0.0\n",
              "NumOfProducts      int64                0               0.0\n",
              "HasCrCard          int64                0               0.0\n",
              "IsActiveMember     int64                0               0.0\n",
              "EstimatedSalary  float64                0               0.0\n",
              "Exited             int64                0               0.0"
            ]
          },
          "metadata": {},
          "execution_count": 7
        }
      ]
    },
    {
      "cell_type": "markdown",
      "metadata": {
        "id": "gcHgJRRfdVZQ"
      },
      "source": [
        "#### Conclusões:\n",
        "\n",
        "\n",
        "*   O DataFrame possui 14 variáveis e 10k de entradas\n",
        "*   Existem variáveis do tipo int, object e float\n",
        "*   Não tem valores ausentes\n",
        "\n"
      ]
    },
    {
      "cell_type": "markdown",
      "metadata": {
        "id": "D2URy-Y1fO1X"
      },
      "source": [
        "## Qual o tipo de distribuição das variáveis?\n",
        "Para identificar a distribuição das variáveis, irei plotar o histograma"
      ]
    },
    {
      "cell_type": "code",
      "metadata": {
        "colab": {
          "base_uri": "https://localhost:8080/",
          "height": 607
        },
        "id": "xPWMf-lIg2px",
        "outputId": "8a8e9ab6-d349-42cf-82b4-dc377d1036b1"
      },
      "source": [
        "df.hist(bins=15,figsize=(15,10))\n",
        "plt.show()"
      ],
      "execution_count": 8,
      "outputs": [
        {
          "output_type": "display_data",
          "data": {
            "image/png": "[encoded data removed]",
            "text/plain": [
              "<Figure size 1080x720 with 12 Axes>"
            ]
          },
          "metadata": {
            "needs_background": "light"
          }
        }
      ]
    },
    {
      "cell_type": "markdown",
      "metadata": {
        "id": "RRHz-quBhyly"
      },
      "source": [
        "### Conclusões:\n",
        "\n",
        "\n",
        "*   CreditScore está em uma distribuição próxima a uma normal\n",
        "*   Idade (distribuição assimétrica positiva, média > mediana > moda)\n",
        "\n"
      ]
    },
    {
      "cell_type": "markdown",
      "metadata": {
        "id": "RwFRpOKbzuZR"
      },
      "source": [
        "### Ações:\n",
        "\n",
        "\n",
        "*   Excluir colunas que não tem impacto no modelo\n",
        "*   Alterar tipo das variáveis\n",
        "\n",
        "\n"
      ]
    },
    {
      "cell_type": "code",
      "metadata": {
        "id": "MgfdOyZ70C6_"
      },
      "source": [
        "df.drop(columns=['Surname', 'CustomerId'], inplace=True)\n",
        "df_test.drop(columns=['Surname', 'CustomerId'], inplace=True)"
      ],
      "execution_count": 9,
      "outputs": []
    },
    {
      "cell_type": "markdown",
      "metadata": {
        "id": "hFr2gRhh1J0Q"
      },
      "source": [
        "## Verificar *outliers* nos dados"
      ]
    },
    {
      "cell_type": "code",
      "metadata": {
        "id": "OY-gIxcH7qwY"
      },
      "source": [
        "def amplitude_interquartil(df, coluna):\n",
        "    \n",
        "    q1 = coluna.quantile(.25)\n",
        "    q3 = coluna.quantile(.75)\n",
        "    iiq = q3 - q1\n",
        "    \n",
        "    limite_inferior = q1 - (1.5 * iiq)\n",
        "    limite_superior = q3 + (1.5 * iiq)\n",
        "    \n",
        "    filtro = (coluna >= limite_inferior) & (coluna <= limite_superior)\n",
        "    return df[filtro]"
      ],
      "execution_count": 10,
      "outputs": []
    },
    {
      "cell_type": "markdown",
      "metadata": {
        "id": "0GEok8Qd2Bk6"
      },
      "source": [
        "### Variável CreditScore"
      ]
    },
    {
      "cell_type": "code",
      "metadata": {
        "colab": {
          "base_uri": "https://localhost:8080/",
          "height": 362
        },
        "id": "lkwOjlB81Ijt",
        "outputId": "6677fd30-d3fa-4244-e0de-d1c38f44c932"
      },
      "source": [
        "plt.figure(figsize=(10,5))\n",
        "plt.title('Distribuição CreditScore', fontsize=18)\n",
        "plt.xlabel('',fontsize=18)\n",
        "plt.ylabel('Frequência',fontsize=16)\n",
        "\n",
        "sns.distplot(df.CreditScore)\n",
        "plt.show()"
      ],
      "execution_count": 11,
      "outputs": [
        {
          "output_type": "display_data",
          "data": {
            "image/png": "[encoded data removed]",
            "text/plain": [
              "<Figure size 720x360 with 1 Axes>"
            ]
          },
          "metadata": {
            "needs_background": "light"
          }
        }
      ]
    },
    {
      "cell_type": "code",
      "metadata": {
        "colab": {
          "base_uri": "https://localhost:8080/",
          "height": 362
        },
        "id": "DQXnomrs2Z5z",
        "outputId": "65a7e91a-bc0c-462d-aa90-8fa63a54d118"
      },
      "source": [
        "plt.figure(figsize=(10,5))\n",
        "plt.title('Boxplot CreditScore', fontsize=18)\n",
        "plt.xlabel('',fontsize=18)\n",
        "\n",
        "sns.boxplot(x='CreditScore', data=df)\n",
        "\n",
        "plt.show()"
      ],
      "execution_count": 12,
      "outputs": [
        {
          "output_type": "display_data",
          "data": {
            "image/png": "[encoded data removed]",
            "text/plain": [
              "<Figure size 720x360 with 1 Axes>"
            ]
          },
          "metadata": {
            "needs_background": "light"
          }
        }
      ]
    },
    {
      "cell_type": "code",
      "metadata": {
        "id": "v9qeKjZ22w8B"
      },
      "source": [
        "#df = amplitude_interquartil(df, df.CreditScore.sort_values())"
      ],
      "execution_count": 13,
      "outputs": []
    },
    {
      "cell_type": "code",
      "metadata": {
        "colab": {
          "base_uri": "https://localhost:8080/",
          "height": 362
        },
        "id": "Ks-vJRjq7nYP",
        "outputId": "9f60f6da-8963-4467-fce5-5de153fe78cc"
      },
      "source": [
        "plt.figure(figsize=(10,5))\n",
        "plt.title('Boxplot CreditScore', fontsize=18)\n",
        "plt.xlabel('',fontsize=18)\n",
        "\n",
        "sns.boxplot(x='CreditScore', data=df)\n",
        "\n",
        "plt.show()"
      ],
      "execution_count": 14,
      "outputs": [
        {
          "output_type": "display_data",
          "data": {
            "image/png": "[encoded data removed]",
            "text/plain": [
              "<Figure size 720x360 with 1 Axes>"
            ]
          },
          "metadata": {
            "needs_background": "light"
          }
        }
      ]
    },
    {
      "cell_type": "markdown",
      "metadata": {
        "id": "cfelR7AM-06n"
      },
      "source": [
        "### Variável Age\n"
      ]
    },
    {
      "cell_type": "code",
      "metadata": {
        "colab": {
          "base_uri": "https://localhost:8080/",
          "height": 362
        },
        "id": "GBSgr0BW-5Vm",
        "outputId": "a8df22ed-c274-4c8b-9e2b-88658424d627"
      },
      "source": [
        "plt.figure(figsize=(10,5))\n",
        "plt.title('Boxplot Age', fontsize=18)\n",
        "plt.xlabel('',fontsize=18)\n",
        "\n",
        "sns.boxplot(x='Age', data=df)\n",
        "\n",
        "plt.show()"
      ],
      "execution_count": 15,
      "outputs": [
        {
          "output_type": "display_data",
          "data": {
            "image/png": "[encoded data removed]",
            "text/plain": [
              "<Figure size 720x360 with 1 Axes>"
            ]
          },
          "metadata": {
            "needs_background": "light"
          }
        }
      ]
    },
    {
      "cell_type": "code",
      "metadata": {
        "id": "OO0PteHf-7N1"
      },
      "source": [
        "#df = amplitude_interquartil(df, df.Age.sort_values())"
      ],
      "execution_count": 16,
      "outputs": []
    },
    {
      "cell_type": "code",
      "metadata": {
        "colab": {
          "base_uri": "https://localhost:8080/",
          "height": 362
        },
        "id": "a4ZXbkU-_HvP",
        "outputId": "1617590f-29d0-4902-e484-3e2339153e0d"
      },
      "source": [
        "plt.figure(figsize=(10,5))\n",
        "plt.title('Boxplot Age', fontsize=18)\n",
        "plt.xlabel('',fontsize=18)\n",
        "\n",
        "sns.boxplot(x='Age', data=df)\n",
        "\n",
        "plt.show()"
      ],
      "execution_count": 17,
      "outputs": [
        {
          "output_type": "display_data",
          "data": {
            "image/png": "[encoded data removed]",
            "text/plain": [
              "<Figure size 720x360 with 1 Axes>"
            ]
          },
          "metadata": {
            "needs_background": "light"
          }
        }
      ]
    },
    {
      "cell_type": "markdown",
      "metadata": {
        "id": "A7xVf9BSg-f-"
      },
      "source": [
        "## Visualizações"
      ]
    },
    {
      "cell_type": "code",
      "metadata": {
        "colab": {
          "base_uri": "https://localhost:8080/",
          "height": 365
        },
        "id": "DMxwk1G3p_cd",
        "outputId": "2629a05d-a681-46b4-89cc-924259978279"
      },
      "source": [
        "plt.figure(figsize=(10,5))\n",
        "plt.title('Distribuição da localização', fontsize=18)\n",
        "plt.xlabel('',fontsize=18)\n",
        "plt.xticks(fontsize=12)\n",
        "plt.yticks(fontsize=12)\n",
        "\n",
        "sns.countplot(data=df, x='Geography')\n",
        "\n",
        "plt.show()"
      ],
      "execution_count": 18,
      "outputs": [
        {
          "output_type": "display_data",
          "data": {
            "image/png": "[encoded data removed]",
            "text/plain": [
              "<Figure size 720x360 with 1 Axes>"
            ]
          },
          "metadata": {
            "needs_background": "light"
          }
        }
      ]
    },
    {
      "cell_type": "code",
      "metadata": {
        "colab": {
          "base_uri": "https://localhost:8080/",
          "height": 972
        },
        "id": "n4nRqj0Lg7EL",
        "outputId": "9b5094a0-f98d-41c5-9bf6-85cec69e42a4"
      },
      "source": [
        "correlations = df.corr()\n",
        "\n",
        "plt.figure(figsize=(20,15))\n",
        "plt.title(\"Mapa de calor (Correlação)\", fontsize=18)\n",
        "plt.xticks(fontsize=12)\n",
        "plt.yticks(fontsize=12)\n",
        "\n",
        "sns.heatmap(correlations, annot=True, cmap=\"PRGn\", linewidths=.5)\n",
        "\n",
        "plt.show()"
      ],
      "execution_count": 19,
      "outputs": [
        {
          "output_type": "display_data",
          "data": {
            "image/png": "[encoded data removed]",
            "text/plain": [
              "<Figure size 1440x1080 with 2 Axes>"
            ]
          },
          "metadata": {
            "needs_background": "light"
          }
        }
      ]
    },
    {
      "cell_type": "code",
      "metadata": {
        "colab": {
          "base_uri": "https://localhost:8080/",
          "height": 365
        },
        "id": "16EOB2Qbg25l",
        "outputId": "e6d510e4-1808-4fa5-bedc-1e59bf0b887e"
      },
      "source": [
        "plt.figure(figsize=(10,5))\n",
        "plt.title('Variável alvo está desbalanceada', fontsize=18)\n",
        "plt.xlabel('',fontsize=18)\n",
        "plt.xticks(fontsize=12)\n",
        "plt.yticks(fontsize=12)\n",
        "\n",
        "sns.countplot(data=df, x='Exited')\n",
        "\n",
        "plt.show()"
      ],
      "execution_count": 20,
      "outputs": [
        {
          "output_type": "display_data",
          "data": {
            "image/png": "[encoded data removed]",
            "text/plain": [
              "<Figure size 720x360 with 1 Axes>"
            ]
          },
          "metadata": {
            "needs_background": "light"
          }
        }
      ]
    },
    {
      "cell_type": "markdown",
      "metadata": {
        "id": "FrlRR8h1ow2g"
      },
      "source": [
        "- Com classes desbalanceada o modelo irá ficar enviesado, pois irá aprender muito sobre um classe da nossa variável alvo e pouco de outra classe\n",
        "- Mas neste contexto é natural que essa variável esteja desbalanceada, pois é mais comum os clientes permaneçam no banco do que deixarem o banco (*comum para o contexto*)"
      ]
    },
    {
      "cell_type": "markdown",
      "metadata": {
        "id": "4kAx4VVInOyX"
      },
      "source": [
        "## Transformando colunas categóricas em numéricas\n",
        "- pois temos algumas colunas categóricas, precisamos transformar isso para fornecer ao nosso modelo somente dados do tipo númerico\n",
        "- Com o método *get_dummies* cada string única foi transformada em um coluna, e nesta coluna caso o registro existir recebe 1 e 0 nas outras colunas"
      ]
    },
    {
      "cell_type": "code",
      "metadata": {
        "colab": {
          "base_uri": "https://localhost:8080/",
          "height": 206
        },
        "id": "aRgMssv4eied",
        "outputId": "64d685cf-cb58-4fbc-94cf-805f62f6e2cc"
      },
      "source": [
        "df.head()"
      ],
      "execution_count": 21,
      "outputs": [
        {
          "output_type": "execute_result",
          "data": {
            "text/html": [
              "<div>\n",
              "<style scoped>\n",
              "    .dataframe tbody tr th:only-of-type {\n",
              "        vertical-align: middle;\n",
              "    }\n",
              "\n",
              "    .dataframe tbody tr th {\n",
              "        vertical-align: top;\n",
              "    }\n",
              "\n",
              "    .dataframe thead th {\n",
              "        text-align: right;\n",
              "    }\n",
              "</style>\n",
              "<table border=\"1\" class=\"dataframe\">\n",
              "  <thead>\n",
              "    <tr style=\"text-align: right;\">\n",
              "      <th></th>\n",
              "      <th>RowNumber</th>\n",
              "      <th>CreditScore</th>\n",
              "      <th>Geography</th>\n",
              "      <th>Gender</th>\n",
              "      <th>Age</th>\n",
              "      <th>Tenure</th>\n",
              "      <th>Balance</th>\n",
              "      <th>NumOfProducts</th>\n",
              "      <th>HasCrCard</th>\n",
              "      <th>IsActiveMember</th>\n",
              "      <th>EstimatedSalary</th>\n",
              "      <th>Exited</th>\n",
              "    </tr>\n",
              "  </thead>\n",
              "  <tbody>\n",
              "    <tr>\n",
              "      <th>0</th>\n",
              "      <td>1</td>\n",
              "      <td>619</td>\n",
              "      <td>France</td>\n",
              "      <td>Female</td>\n",
              "      <td>42</td>\n",
              "      <td>2</td>\n",
              "      <td>0.00</td>\n",
              "      <td>1</td>\n",
              "      <td>1</td>\n",
              "      <td>1</td>\n",
              "      <td>101348.88</td>\n",
              "      <td>1</td>\n",
              "    </tr>\n",
              "    <tr>\n",
              "      <th>1</th>\n",
              "      <td>2</td>\n",
              "      <td>608</td>\n",
              "      <td>Spain</td>\n",
              "      <td>Female</td>\n",
              "      <td>41</td>\n",
              "      <td>1</td>\n",
              "      <td>83807.86</td>\n",
              "      <td>1</td>\n",
              "      <td>0</td>\n",
              "      <td>1</td>\n",
              "      <td>112542.58</td>\n",
              "      <td>0</td>\n",
              "    </tr>\n",
              "    <tr>\n",
              "      <th>2</th>\n",
              "      <td>3</td>\n",
              "      <td>502</td>\n",
              "      <td>France</td>\n",
              "      <td>Female</td>\n",
              "      <td>42</td>\n",
              "      <td>8</td>\n",
              "      <td>159660.80</td>\n",
              "      <td>3</td>\n",
              "      <td>1</td>\n",
              "      <td>0</td>\n",
              "      <td>113931.57</td>\n",
              "      <td>1</td>\n",
              "    </tr>\n",
              "    <tr>\n",
              "      <th>3</th>\n",
              "      <td>4</td>\n",
              "      <td>699</td>\n",
              "      <td>France</td>\n",
              "      <td>Female</td>\n",
              "      <td>39</td>\n",
              "      <td>1</td>\n",
              "      <td>0.00</td>\n",
              "      <td>2</td>\n",
              "      <td>0</td>\n",
              "      <td>0</td>\n",
              "      <td>93826.63</td>\n",
              "      <td>0</td>\n",
              "    </tr>\n",
              "    <tr>\n",
              "      <th>4</th>\n",
              "      <td>5</td>\n",
              "      <td>850</td>\n",
              "      <td>Spain</td>\n",
              "      <td>Female</td>\n",
              "      <td>43</td>\n",
              "      <td>2</td>\n",
              "      <td>125510.82</td>\n",
              "      <td>1</td>\n",
              "      <td>1</td>\n",
              "      <td>1</td>\n",
              "      <td>79084.10</td>\n",
              "      <td>0</td>\n",
              "    </tr>\n",
              "  </tbody>\n",
              "</table>\n",
              "</div>"
            ],
            "text/plain": [
              "   RowNumber  CreditScore Geography  ... IsActiveMember  EstimatedSalary  Exited\n",
              "0          1          619    France  ...              1        101348.88       1\n",
              "1          2          608     Spain  ...              1        112542.58       0\n",
              "2          3          502    France  ...              0        113931.57       1\n",
              "3          4          699    France  ...              0         93826.63       0\n",
              "4          5          850     Spain  ...              1         79084.10       0\n",
              "\n",
              "[5 rows x 12 columns]"
            ]
          },
          "metadata": {},
          "execution_count": 21
        }
      ]
    },
    {
      "cell_type": "code",
      "metadata": {
        "id": "6kxjLDaklqtz"
      },
      "source": [
        "df = pd.get_dummies(df)\n",
        "df_test = pd.get_dummies(df_test)"
      ],
      "execution_count": 22,
      "outputs": []
    },
    {
      "cell_type": "code",
      "metadata": {
        "colab": {
          "base_uri": "https://localhost:8080/",
          "height": 226
        },
        "id": "-bUZSHYlnOhn",
        "outputId": "ebdc7e65-3f55-45f6-976b-85c6ef087235"
      },
      "source": [
        "df.head()"
      ],
      "execution_count": 23,
      "outputs": [
        {
          "output_type": "execute_result",
          "data": {
            "text/html": [
              "<div>\n",
              "<style scoped>\n",
              "    .dataframe tbody tr th:only-of-type {\n",
              "        vertical-align: middle;\n",
              "    }\n",
              "\n",
              "    .dataframe tbody tr th {\n",
              "        vertical-align: top;\n",
              "    }\n",
              "\n",
              "    .dataframe thead th {\n",
              "        text-align: right;\n",
              "    }\n",
              "</style>\n",
              "<table border=\"1\" class=\"dataframe\">\n",
              "  <thead>\n",
              "    <tr style=\"text-align: right;\">\n",
              "      <th></th>\n",
              "      <th>RowNumber</th>\n",
              "      <th>CreditScore</th>\n",
              "      <th>Age</th>\n",
              "      <th>Tenure</th>\n",
              "      <th>Balance</th>\n",
              "      <th>NumOfProducts</th>\n",
              "      <th>HasCrCard</th>\n",
              "      <th>IsActiveMember</th>\n",
              "      <th>EstimatedSalary</th>\n",
              "      <th>Exited</th>\n",
              "      <th>Geography_France</th>\n",
              "      <th>Geography_Germany</th>\n",
              "      <th>Geography_Spain</th>\n",
              "      <th>Gender_Female</th>\n",
              "      <th>Gender_Male</th>\n",
              "    </tr>\n",
              "  </thead>\n",
              "  <tbody>\n",
              "    <tr>\n",
              "      <th>0</th>\n",
              "      <td>1</td>\n",
              "      <td>619</td>\n",
              "      <td>42</td>\n",
              "      <td>2</td>\n",
              "      <td>0.00</td>\n",
              "      <td>1</td>\n",
              "      <td>1</td>\n",
              "      <td>1</td>\n",
              "      <td>101348.88</td>\n",
              "      <td>1</td>\n",
              "      <td>1</td>\n",
              "      <td>0</td>\n",
              "      <td>0</td>\n",
              "      <td>1</td>\n",
              "      <td>0</td>\n",
              "    </tr>\n",
              "    <tr>\n",
              "      <th>1</th>\n",
              "      <td>2</td>\n",
              "      <td>608</td>\n",
              "      <td>41</td>\n",
              "      <td>1</td>\n",
              "      <td>83807.86</td>\n",
              "      <td>1</td>\n",
              "      <td>0</td>\n",
              "      <td>1</td>\n",
              "      <td>112542.58</td>\n",
              "      <td>0</td>\n",
              "      <td>0</td>\n",
              "      <td>0</td>\n",
              "      <td>1</td>\n",
              "      <td>1</td>\n",
              "      <td>0</td>\n",
              "    </tr>\n",
              "    <tr>\n",
              "      <th>2</th>\n",
              "      <td>3</td>\n",
              "      <td>502</td>\n",
              "      <td>42</td>\n",
              "      <td>8</td>\n",
              "      <td>159660.80</td>\n",
              "      <td>3</td>\n",
              "      <td>1</td>\n",
              "      <td>0</td>\n",
              "      <td>113931.57</td>\n",
              "      <td>1</td>\n",
              "      <td>1</td>\n",
              "      <td>0</td>\n",
              "      <td>0</td>\n",
              "      <td>1</td>\n",
              "      <td>0</td>\n",
              "    </tr>\n",
              "    <tr>\n",
              "      <th>3</th>\n",
              "      <td>4</td>\n",
              "      <td>699</td>\n",
              "      <td>39</td>\n",
              "      <td>1</td>\n",
              "      <td>0.00</td>\n",
              "      <td>2</td>\n",
              "      <td>0</td>\n",
              "      <td>0</td>\n",
              "      <td>93826.63</td>\n",
              "      <td>0</td>\n",
              "      <td>1</td>\n",
              "      <td>0</td>\n",
              "      <td>0</td>\n",
              "      <td>1</td>\n",
              "      <td>0</td>\n",
              "    </tr>\n",
              "    <tr>\n",
              "      <th>4</th>\n",
              "      <td>5</td>\n",
              "      <td>850</td>\n",
              "      <td>43</td>\n",
              "      <td>2</td>\n",
              "      <td>125510.82</td>\n",
              "      <td>1</td>\n",
              "      <td>1</td>\n",
              "      <td>1</td>\n",
              "      <td>79084.10</td>\n",
              "      <td>0</td>\n",
              "      <td>0</td>\n",
              "      <td>0</td>\n",
              "      <td>1</td>\n",
              "      <td>1</td>\n",
              "      <td>0</td>\n",
              "    </tr>\n",
              "  </tbody>\n",
              "</table>\n",
              "</div>"
            ],
            "text/plain": [
              "   RowNumber  CreditScore  Age  ...  Geography_Spain  Gender_Female  Gender_Male\n",
              "0          1          619   42  ...                0              1            0\n",
              "1          2          608   41  ...                1              1            0\n",
              "2          3          502   42  ...                0              1            0\n",
              "3          4          699   39  ...                0              1            0\n",
              "4          5          850   43  ...                1              1            0\n",
              "\n",
              "[5 rows x 15 columns]"
            ]
          },
          "metadata": {},
          "execution_count": 23
        }
      ]
    },
    {
      "cell_type": "code",
      "metadata": {
        "colab": {
          "base_uri": "https://localhost:8080/",
          "height": 206
        },
        "id": "9RFtPzc1uEKt",
        "outputId": "1fb2ce58-a606-45ac-ba25-55b23a8cf16b"
      },
      "source": [
        "df_test.head()"
      ],
      "execution_count": 24,
      "outputs": [
        {
          "output_type": "execute_result",
          "data": {
            "text/html": [
              "<div>\n",
              "<style scoped>\n",
              "    .dataframe tbody tr th:only-of-type {\n",
              "        vertical-align: middle;\n",
              "    }\n",
              "\n",
              "    .dataframe tbody tr th {\n",
              "        vertical-align: top;\n",
              "    }\n",
              "\n",
              "    .dataframe thead th {\n",
              "        text-align: right;\n",
              "    }\n",
              "</style>\n",
              "<table border=\"1\" class=\"dataframe\">\n",
              "  <thead>\n",
              "    <tr style=\"text-align: right;\">\n",
              "      <th></th>\n",
              "      <th>RowNumber</th>\n",
              "      <th>CreditScore</th>\n",
              "      <th>Age</th>\n",
              "      <th>Tenure</th>\n",
              "      <th>Balance</th>\n",
              "      <th>NumOfProducts</th>\n",
              "      <th>HasCrCard</th>\n",
              "      <th>IsActiveMember</th>\n",
              "      <th>EstimatedSalary</th>\n",
              "      <th>Geography_France</th>\n",
              "      <th>Geography_Germany</th>\n",
              "      <th>Geography_Spain</th>\n",
              "      <th>Gender_Female</th>\n",
              "      <th>Gender_Male</th>\n",
              "    </tr>\n",
              "  </thead>\n",
              "  <tbody>\n",
              "    <tr>\n",
              "      <th>0</th>\n",
              "      <td>10001</td>\n",
              "      <td>565</td>\n",
              "      <td>31</td>\n",
              "      <td>1</td>\n",
              "      <td>0.00</td>\n",
              "      <td>1</td>\n",
              "      <td>0</td>\n",
              "      <td>1</td>\n",
              "      <td>20443.08</td>\n",
              "      <td>1</td>\n",
              "      <td>0</td>\n",
              "      <td>0</td>\n",
              "      <td>0</td>\n",
              "      <td>1</td>\n",
              "    </tr>\n",
              "    <tr>\n",
              "      <th>1</th>\n",
              "      <td>10002</td>\n",
              "      <td>569</td>\n",
              "      <td>34</td>\n",
              "      <td>4</td>\n",
              "      <td>0.00</td>\n",
              "      <td>1</td>\n",
              "      <td>0</td>\n",
              "      <td>1</td>\n",
              "      <td>4045.90</td>\n",
              "      <td>1</td>\n",
              "      <td>0</td>\n",
              "      <td>0</td>\n",
              "      <td>0</td>\n",
              "      <td>1</td>\n",
              "    </tr>\n",
              "    <tr>\n",
              "      <th>2</th>\n",
              "      <td>10003</td>\n",
              "      <td>669</td>\n",
              "      <td>20</td>\n",
              "      <td>7</td>\n",
              "      <td>0.00</td>\n",
              "      <td>2</td>\n",
              "      <td>1</td>\n",
              "      <td>0</td>\n",
              "      <td>128838.67</td>\n",
              "      <td>1</td>\n",
              "      <td>0</td>\n",
              "      <td>0</td>\n",
              "      <td>1</td>\n",
              "      <td>0</td>\n",
              "    </tr>\n",
              "    <tr>\n",
              "      <th>3</th>\n",
              "      <td>10004</td>\n",
              "      <td>694</td>\n",
              "      <td>39</td>\n",
              "      <td>4</td>\n",
              "      <td>173255.48</td>\n",
              "      <td>1</td>\n",
              "      <td>1</td>\n",
              "      <td>1</td>\n",
              "      <td>81293.10</td>\n",
              "      <td>1</td>\n",
              "      <td>0</td>\n",
              "      <td>0</td>\n",
              "      <td>0</td>\n",
              "      <td>1</td>\n",
              "    </tr>\n",
              "    <tr>\n",
              "      <th>4</th>\n",
              "      <td>10005</td>\n",
              "      <td>504</td>\n",
              "      <td>28</td>\n",
              "      <td>10</td>\n",
              "      <td>109291.36</td>\n",
              "      <td>1</td>\n",
              "      <td>1</td>\n",
              "      <td>1</td>\n",
              "      <td>187593.15</td>\n",
              "      <td>0</td>\n",
              "      <td>0</td>\n",
              "      <td>1</td>\n",
              "      <td>0</td>\n",
              "      <td>1</td>\n",
              "    </tr>\n",
              "  </tbody>\n",
              "</table>\n",
              "</div>"
            ],
            "text/plain": [
              "   RowNumber  CreditScore  Age  ...  Geography_Spain  Gender_Female  Gender_Male\n",
              "0      10001          565   31  ...                0              0            1\n",
              "1      10002          569   34  ...                0              0            1\n",
              "2      10003          669   20  ...                0              1            0\n",
              "3      10004          694   39  ...                0              0            1\n",
              "4      10005          504   28  ...                1              0            1\n",
              "\n",
              "[5 rows x 14 columns]"
            ]
          },
          "metadata": {},
          "execution_count": 24
        }
      ]
    },
    {
      "cell_type": "code",
      "metadata": {
        "colab": {
          "base_uri": "https://localhost:8080/"
        },
        "id": "onSDRh5Sem5A",
        "outputId": "02afbf92-4b41-4012-cdbf-a116282b6251"
      },
      "source": [
        "df.dtypes"
      ],
      "execution_count": 25,
      "outputs": [
        {
          "output_type": "execute_result",
          "data": {
            "text/plain": [
              "RowNumber              int64\n",
              "CreditScore            int64\n",
              "Age                    int64\n",
              "Tenure                 int64\n",
              "Balance              float64\n",
              "NumOfProducts          int64\n",
              "HasCrCard              int64\n",
              "IsActiveMember         int64\n",
              "EstimatedSalary      float64\n",
              "Exited                 int64\n",
              "Geography_France       uint8\n",
              "Geography_Germany      uint8\n",
              "Geography_Spain        uint8\n",
              "Gender_Female          uint8\n",
              "Gender_Male            uint8\n",
              "dtype: object"
            ]
          },
          "metadata": {},
          "execution_count": 25
        }
      ]
    },
    {
      "cell_type": "markdown",
      "metadata": {
        "id": "UYjEhL65e6NM"
      },
      "source": [
        "## XGBoost (classes desbalanceadas)\n",
        "- Modelo com classes desbalancedas\n",
        "- A escolha do XGBoost para a construção do modelo, deu-se após testes de outros algoritmos como (Regressão logistíca, DecisionTree). No qual, o XGBoost obteve uma melhor performance nos 3 cenários descritos abaixo\n",
        "- Apesar que não foi feito um *tunning* de parâmetros, o modelo obteve uma boa perfomance\n"
      ]
    },
    {
      "cell_type": "code",
      "metadata": {
        "id": "Y8eBSOtAgXpG"
      },
      "source": [
        "# Criando instância\n",
        "clf = xgboost.XGBRFClassifier(max_depth=10, random_state=22)"
      ],
      "execution_count": 26,
      "outputs": []
    },
    {
      "cell_type": "code",
      "metadata": {
        "id": "piqsfQCHeucu"
      },
      "source": [
        "# Separando o X e y (variável alvo)\n",
        "X = df.drop(columns=['Exited'])\n",
        "y = df.Exited"
      ],
      "execution_count": 27,
      "outputs": []
    },
    {
      "cell_type": "code",
      "metadata": {
        "id": "09Dh2eEveumg"
      },
      "source": [
        "# Separando os dados em treino e teste\n",
        "X_train, X_test, y_train, y_test = train_test_split(X, \n",
        "                                                     y,\n",
        "                                                     random_state=22,\n",
        "                                                     stratify=y,\n",
        "                                                     test_size=0.3,\n",
        "                                                     train_size=0.7) "
      ],
      "execution_count": 28,
      "outputs": []
    },
    {
      "cell_type": "markdown",
      "metadata": {
        "id": "Bj21dsHhgNOS"
      },
      "source": [
        "### Treinar o modelo"
      ]
    },
    {
      "cell_type": "code",
      "metadata": {
        "colab": {
          "base_uri": "https://localhost:8080/"
        },
        "id": "tt2TgMIqevCH",
        "outputId": "01d4e261-5959-40a3-bd7b-2c4dda36a699"
      },
      "source": [
        "clf.fit(X_train, y_train)"
      ],
      "execution_count": 29,
      "outputs": [
        {
          "output_type": "execute_result",
          "data": {
            "text/plain": [
              "XGBRFClassifier(max_depth=10, random_state=22)"
            ]
          },
          "metadata": {},
          "execution_count": 29
        }
      ]
    },
    {
      "cell_type": "markdown",
      "metadata": {
        "id": "MfggYdH9gqrU"
      },
      "source": [
        "#### Verificando a performance\n",
        "- Acurácia (não é um bom medidor visto que as classes são balanceadas, % de acerto do modelo)"
      ]
    },
    {
      "cell_type": "code",
      "metadata": {
        "id": "C53frXn6giV-"
      },
      "source": [
        "y_pred = clf.predict(X_test)"
      ],
      "execution_count": 30,
      "outputs": []
    },
    {
      "cell_type": "code",
      "metadata": {
        "colab": {
          "base_uri": "https://localhost:8080/"
        },
        "id": "c9bUv-VvgqrU",
        "outputId": "b64168a0-fbd9-438c-fa8a-a2b9638fe4b0"
      },
      "source": [
        "print(\"Acurácia: %.2f%%\" % (accuracy_score(y_test, y_pred) * 100))"
      ],
      "execution_count": 31,
      "outputs": [
        {
          "output_type": "stream",
          "name": "stdout",
          "text": [
            "Acurácia: 85.40%\n"
          ]
        }
      ]
    },
    {
      "cell_type": "markdown",
      "metadata": {
        "id": "1ulSbBMagrOy"
      },
      "source": [
        "### Relatório de Classificação\n",
        "- Importante observar as *Métricas* Precision e Recall"
      ]
    },
    {
      "cell_type": "code",
      "metadata": {
        "colab": {
          "base_uri": "https://localhost:8080/"
        },
        "id": "PiPR1JixgrOz",
        "outputId": "6d33265e-453b-4bb3-ea36-a35f5b128243"
      },
      "source": [
        "print(classification_report(y_test, y_pred))"
      ],
      "execution_count": 32,
      "outputs": [
        {
          "output_type": "stream",
          "name": "stdout",
          "text": [
            "              precision    recall  f1-score   support\n",
            "\n",
            "           0       0.87      0.96      0.91      2389\n",
            "           1       0.75      0.42      0.54       611\n",
            "\n",
            "    accuracy                           0.85      3000\n",
            "   macro avg       0.81      0.69      0.73      3000\n",
            "weighted avg       0.84      0.85      0.84      3000\n",
            "\n"
          ]
        }
      ]
    },
    {
      "cell_type": "markdown",
      "metadata": {
        "id": "T-RgsflfioBp"
      },
      "source": [
        "#### Matriz de confusão"
      ]
    },
    {
      "cell_type": "code",
      "metadata": {
        "colab": {
          "base_uri": "https://localhost:8080/"
        },
        "id": "8tLtNd-NioBw",
        "outputId": "9174e5b9-54bd-42c4-8aa8-6c3add0e2cba"
      },
      "source": [
        "print(pd.crosstab(y_test, y_pred, rownames=['Real'], colnames=['Predito'], margins=True))"
      ],
      "execution_count": 33,
      "outputs": [
        {
          "output_type": "stream",
          "name": "stdout",
          "text": [
            "Predito     0    1   All\n",
            "Real                    \n",
            "0        2304   85  2389\n",
            "1         353  258   611\n",
            "All      2657  343  3000\n"
          ]
        }
      ]
    },
    {
      "cell_type": "markdown",
      "metadata": {
        "id": "DP6wWVB47y-P"
      },
      "source": [
        "### Algumas conclusões\n",
        "- Podemos observa que na métrica de recall e também no f1-score. O modelo errou muito na classe 1 (minoritária) em relação a classe 0 (marjoritária)\n",
        "- E na matriz de confusão também percebemos isso, o modelo acertou bastante para a classe marjoritária"
      ]
    },
    {
      "cell_type": "markdown",
      "metadata": {
        "id": "FQys2zeJklyl"
      },
      "source": [
        "## Vamos aplicar a NearMiss\n",
        "- NearMiss é um método de *Undersampling*\n",
        "- *Undersampling* iguala as quantidades de amostras entre as classes"
      ]
    },
    {
      "cell_type": "markdown",
      "metadata": {
        "id": "J0cETynvkmga"
      },
      "source": [
        "## Aplicando o NearMiss nos dados para igualar a quantidade de amostras das classes"
      ]
    },
    {
      "cell_type": "code",
      "metadata": {
        "id": "_hR6bbT_IWBl"
      },
      "source": [
        "# Separando o X e y (variável alvo)\n",
        "X = df.drop(columns=['Exited'])\n",
        "y = df.Exited"
      ],
      "execution_count": 34,
      "outputs": []
    },
    {
      "cell_type": "code",
      "metadata": {
        "id": "bh1uwkJLklyy"
      },
      "source": [
        "# Criando instância\n",
        "nr = NearMiss()"
      ],
      "execution_count": 35,
      "outputs": []
    },
    {
      "cell_type": "code",
      "metadata": {
        "id": "q1ZYE6i3kmgb"
      },
      "source": [
        "# Aplicando o NearMiss\n",
        "X, y = nr.fit_resample(X, y)"
      ],
      "execution_count": 37,
      "outputs": []
    },
    {
      "cell_type": "code",
      "metadata": {
        "colab": {
          "base_uri": "https://localhost:8080/",
          "height": 365
        },
        "id": "xfOX3ihwmHir",
        "outputId": "49b4e0ff-ceeb-4e1f-da97-cbaa24002d21"
      },
      "source": [
        "plt.figure(figsize=(10,5))\n",
        "plt.title('NearMiss diminuiu a classe marjoritária', fontsize=18)\n",
        "plt.xlabel('',fontsize=18)\n",
        "plt.xticks(fontsize=12)\n",
        "plt.yticks(fontsize=12)\n",
        "\n",
        "sns.countplot(x=y)\n",
        "\n",
        "plt.show()"
      ],
      "execution_count": 38,
      "outputs": [
        {
          "output_type": "display_data",
          "data": {
            "image/png": "[encoded data removed]",
            "text/plain": [
              "<Figure size 720x360 with 1 Axes>"
            ]
          },
          "metadata": {
            "needs_background": "light"
          }
        }
      ]
    },
    {
      "cell_type": "markdown",
      "metadata": {
        "id": "matY6IaLmoGG"
      },
      "source": [
        "## Criar novamente o modelo com XGBoost"
      ]
    },
    {
      "cell_type": "code",
      "metadata": {
        "id": "-rKz496XmdNy"
      },
      "source": [
        "X_train, X_test, y_train, y_test = train_test_split(X, \n",
        "                                                     y,\n",
        "                                                     random_state=22,\n",
        "                                                     stratify=y,\n",
        "                                                     test_size=0.3,\n",
        "                                                     train_size=0.7)"
      ],
      "execution_count": 39,
      "outputs": []
    },
    {
      "cell_type": "code",
      "metadata": {
        "id": "NG-3iZxfmd0a"
      },
      "source": [
        "clf = xgboost.XGBRFClassifier(max_depth=10, random_state=22)\n",
        "clf.fit(X_train, y_train) # Treina o modelo\n",
        "y_pred = clf.predict(X_test) # faz a classificação"
      ],
      "execution_count": 44,
      "outputs": []
    },
    {
      "cell_type": "code",
      "metadata": {
        "colab": {
          "base_uri": "https://localhost:8080/"
        },
        "id": "4gJ_TcV8meBq",
        "outputId": "6944b75c-3f4b-423f-bdcb-45dfa040a6a8"
      },
      "source": [
        "print(\"Acurácia: %.2f%%\" % (accuracy_score(y_test, y_pred) * 100)) # Verificando acurácia"
      ],
      "execution_count": 45,
      "outputs": [
        {
          "output_type": "stream",
          "name": "stdout",
          "text": [
            "Acurácia: 91.01%\n"
          ]
        }
      ]
    },
    {
      "cell_type": "markdown",
      "metadata": {
        "id": "WOqrqiTlnkZE"
      },
      "source": [
        "### Acurácia aumentou\n",
        "- Porém a base de dados foi reduzida drasticamente após aplicar o *UnderSampling*\n",
        "- O ponto positivo é que o modelo soube lidar melhor com as duas classes"
      ]
    },
    {
      "cell_type": "code",
      "metadata": {
        "colab": {
          "base_uri": "https://localhost:8080/"
        },
        "id": "aTjDeFdknGWa",
        "outputId": "cccc1852-cb5d-4388-bc1f-4c0259d0b36f"
      },
      "source": [
        "print(classification_report(y_test, y_pred))"
      ],
      "execution_count": 46,
      "outputs": [
        {
          "output_type": "stream",
          "name": "stdout",
          "text": [
            "              precision    recall  f1-score   support\n",
            "\n",
            "           0       0.89      0.94      0.91       611\n",
            "           1       0.94      0.88      0.91       612\n",
            "\n",
            "    accuracy                           0.91      1223\n",
            "   macro avg       0.91      0.91      0.91      1223\n",
            "weighted avg       0.91      0.91      0.91      1223\n",
            "\n"
          ]
        }
      ]
    },
    {
      "cell_type": "markdown",
      "metadata": {
        "id": "fJ9h7BrIoD1l"
      },
      "source": [
        "### Matriz de confusão"
      ]
    },
    {
      "cell_type": "code",
      "metadata": {
        "colab": {
          "base_uri": "https://localhost:8080/"
        },
        "id": "3QcxGwZboD1m",
        "outputId": "7a1b7fcc-39a0-4676-f371-915266077f40"
      },
      "source": [
        "print(pd.crosstab(y_test, y_pred, rownames=['Real'], colnames=['Predito'], margins=True))"
      ],
      "execution_count": 47,
      "outputs": [
        {
          "output_type": "stream",
          "name": "stdout",
          "text": [
            "Predito    0    1   All\n",
            "Real                   \n",
            "0        575   36   611\n",
            "1         74  538   612\n",
            "All      649  574  1223\n"
          ]
        }
      ]
    },
    {
      "cell_type": "markdown",
      "metadata": {
        "id": "W0PBa75Zsdfx"
      },
      "source": [
        "## Vamos aplicar a SMOTE\n",
        "- SMOTE é um método de *OverSamplig*\n",
        "- O SMOTE irá gerar dados sintéticos da classe minotirária"
      ]
    },
    {
      "cell_type": "code",
      "metadata": {
        "id": "egIHqs7zszYz"
      },
      "source": [
        "# Separando o X e y (variável alvo)\n",
        "X = df.drop(columns='Exited')\n",
        "y = df.Exited"
      ],
      "execution_count": 48,
      "outputs": []
    },
    {
      "cell_type": "markdown",
      "metadata": {
        "id": "376YGzqFCnzA"
      },
      "source": [
        "#### Criando objeto SMOTE\n",
        "- o parâmetro definido é o tamanho em porcentagem que a classe minoritária terá em relação a marjoritária"
      ]
    },
    {
      "cell_type": "code",
      "metadata": {
        "id": "ILV0ngd3s1CX"
      },
      "source": [
        "# Criando instância\n",
        "smt = SMOTE(sampling_strategy=0.7)"
      ],
      "execution_count": 49,
      "outputs": []
    },
    {
      "cell_type": "markdown",
      "metadata": {
        "id": "TtBPohkJDOGs"
      },
      "source": [
        "#### Aplicando o SMOTE nos dados"
      ]
    },
    {
      "cell_type": "code",
      "metadata": {
        "id": "z6ODg0VJti1V"
      },
      "source": [
        "# Aplicando o SMOTE\n",
        "X, y = smt.fit_resample(X,y)"
      ],
      "execution_count": 51,
      "outputs": []
    },
    {
      "cell_type": "markdown",
      "metadata": {
        "id": "qWg6bqq0DWSu"
      },
      "source": [
        "#### Visualizando a distribuição pós SMOTE"
      ]
    },
    {
      "cell_type": "code",
      "metadata": {
        "colab": {
          "base_uri": "https://localhost:8080/",
          "height": 296
        },
        "id": "ydJ1xumOtivy",
        "outputId": "83c8702c-5b1c-4750-c1ac-9741723cc66a"
      },
      "source": [
        "sns.countplot(x=y)"
      ],
      "execution_count": 52,
      "outputs": [
        {
          "output_type": "execute_result",
          "data": {
            "text/plain": [
              "<matplotlib.axes._subplots.AxesSubplot at 0x7f2b99e12890>"
            ]
          },
          "metadata": {},
          "execution_count": 52
        },
        {
          "output_type": "display_data",
          "data": {
            "image/png": "[encoded data removed]",
            "text/plain": [
              "<Figure size 432x288 with 1 Axes>"
            ]
          },
          "metadata": {
            "needs_background": "light"
          }
        }
      ]
    },
    {
      "cell_type": "markdown",
      "metadata": {
        "id": "_rj_Kys_DdyZ"
      },
      "source": [
        "#### Separando em treino e teste"
      ]
    },
    {
      "cell_type": "code",
      "metadata": {
        "id": "496lLiKZtitB"
      },
      "source": [
        "X_train, X_test, y_train, y_test = train_test_split(X, \n",
        "                                                     y,\n",
        "                                                     random_state=22,\n",
        "                                                     stratify=y,\n",
        "                                                     test_size=0.3,\n",
        "                                                     train_size=0.7)"
      ],
      "execution_count": 53,
      "outputs": []
    },
    {
      "cell_type": "code",
      "metadata": {
        "colab": {
          "base_uri": "https://localhost:8080/"
        },
        "id": "NTEvXaaltimF",
        "outputId": "64af9039-b9b7-46c9-cd30-5501087c6cb5"
      },
      "source": [
        "clf = xgboost.XGBRFClassifier(max_depth=10, random_state=22)\n",
        "clf.fit(X_train, y_train)"
      ],
      "execution_count": 54,
      "outputs": [
        {
          "output_type": "execute_result",
          "data": {
            "text/plain": [
              "XGBRFClassifier(max_depth=10, random_state=22)"
            ]
          },
          "metadata": {},
          "execution_count": 54
        }
      ]
    },
    {
      "cell_type": "code",
      "metadata": {
        "id": "4JRAAgzbtiZD"
      },
      "source": [
        "y_pred = clf.predict(X_test) # faz a classificação"
      ],
      "execution_count": 55,
      "outputs": []
    },
    {
      "cell_type": "code",
      "metadata": {
        "colab": {
          "base_uri": "https://localhost:8080/"
        },
        "id": "Vzo-A6k8JpYD",
        "outputId": "26ac69e0-0da9-4bd4-c3ed-bd2e3b10eb9f"
      },
      "source": [
        "print(\"Acurácia: %.2f%%\" % (accuracy_score(y_test, y_pred) * 100)) # Verificando acurácia"
      ],
      "execution_count": 56,
      "outputs": [
        {
          "output_type": "stream",
          "name": "stdout",
          "text": [
            "Acurácia: 87.35%\n"
          ]
        }
      ]
    },
    {
      "cell_type": "code",
      "metadata": {
        "colab": {
          "base_uri": "https://localhost:8080/"
        },
        "id": "KCpUf7T1Jpli",
        "outputId": "24cebe51-604d-4e60-83f7-a1d10a15e8ac"
      },
      "source": [
        "print(classification_report(y_test, y_pred))"
      ],
      "execution_count": 57,
      "outputs": [
        {
          "output_type": "stream",
          "name": "stdout",
          "text": [
            "              precision    recall  f1-score   support\n",
            "\n",
            "           0       0.87      0.93      0.90      2389\n",
            "           1       0.89      0.80      0.84      1673\n",
            "\n",
            "    accuracy                           0.87      4062\n",
            "   macro avg       0.88      0.86      0.87      4062\n",
            "weighted avg       0.87      0.87      0.87      4062\n",
            "\n"
          ]
        }
      ]
    },
    {
      "cell_type": "code",
      "metadata": {
        "colab": {
          "base_uri": "https://localhost:8080/"
        },
        "id": "wd8xS_30Jpow",
        "outputId": "cc0e7f31-9b25-4040-d63d-e89abd06e988"
      },
      "source": [
        "print(pd.crosstab(y_test, y_pred, rownames=['Real'], colnames=['Predito'], margins=True))"
      ],
      "execution_count": null,
      "outputs": [
        {
          "output_type": "stream",
          "name": "stdout",
          "text": [
            "Predito     0     1   All\n",
            "Real                     \n",
            "0        2249   140  2389\n",
            "1         333  1340  1673\n",
            "All      2582  1480  4062\n"
          ]
        }
      ]
    },
    {
      "cell_type": "code",
      "metadata": {
        "id": "DX3oSXNg-olz"
      },
      "source": [
        "y_validation = clf.predict(df_test) # faz a classificação"
      ],
      "execution_count": 58,
      "outputs": []
    },
    {
      "cell_type": "code",
      "metadata": {
        "colab": {
          "base_uri": "https://localhost:8080/"
        },
        "id": "SDLRbQ5bA7tS",
        "outputId": "21ce0955-10e5-4930-a307-d5f43f3910d5"
      },
      "source": [
        "type(y_validation)"
      ],
      "execution_count": 76,
      "outputs": [
        {
          "output_type": "execute_result",
          "data": {
            "text/plain": [
              "numpy.ndarray"
            ]
          },
          "metadata": {},
          "execution_count": 76
        }
      ]
    },
    {
      "cell_type": "code",
      "metadata": {
        "id": "7JDi4FN0_DqC"
      },
      "source": [
        "result = pd.DataFrame({'rowNumber': df_test.RowNumber,\n",
        "                       'predictedValues': y_validation})"
      ],
      "execution_count": 77,
      "outputs": []
    },
    {
      "cell_type": "code",
      "metadata": {
        "colab": {
          "base_uri": "https://localhost:8080/",
          "height": 206
        },
        "id": "pyeaCmQpAop5",
        "outputId": "05e1c887-1a50-4396-e324-8cf967a567e2"
      },
      "source": [
        "result.head()"
      ],
      "execution_count": 80,
      "outputs": [
        {
          "output_type": "execute_result",
          "data": {
            "text/html": [
              "<div>\n",
              "<style scoped>\n",
              "    .dataframe tbody tr th:only-of-type {\n",
              "        vertical-align: middle;\n",
              "    }\n",
              "\n",
              "    .dataframe tbody tr th {\n",
              "        vertical-align: top;\n",
              "    }\n",
              "\n",
              "    .dataframe thead th {\n",
              "        text-align: right;\n",
              "    }\n",
              "</style>\n",
              "<table border=\"1\" class=\"dataframe\">\n",
              "  <thead>\n",
              "    <tr style=\"text-align: right;\">\n",
              "      <th></th>\n",
              "      <th>rowNumber</th>\n",
              "      <th>predictedValues</th>\n",
              "    </tr>\n",
              "  </thead>\n",
              "  <tbody>\n",
              "    <tr>\n",
              "      <th>0</th>\n",
              "      <td>10001</td>\n",
              "      <td>0</td>\n",
              "    </tr>\n",
              "    <tr>\n",
              "      <th>1</th>\n",
              "      <td>10002</td>\n",
              "      <td>0</td>\n",
              "    </tr>\n",
              "    <tr>\n",
              "      <th>2</th>\n",
              "      <td>10003</td>\n",
              "      <td>0</td>\n",
              "    </tr>\n",
              "    <tr>\n",
              "      <th>3</th>\n",
              "      <td>10004</td>\n",
              "      <td>0</td>\n",
              "    </tr>\n",
              "    <tr>\n",
              "      <th>4</th>\n",
              "      <td>10005</td>\n",
              "      <td>0</td>\n",
              "    </tr>\n",
              "  </tbody>\n",
              "</table>\n",
              "</div>"
            ],
            "text/plain": [
              "   rowNumber  predictedValues\n",
              "0      10001                0\n",
              "1      10002                0\n",
              "2      10003                0\n",
              "3      10004                0\n",
              "4      10005                0"
            ]
          },
          "metadata": {},
          "execution_count": 80
        }
      ]
    },
    {
      "cell_type": "code",
      "metadata": {
        "id": "m0gXzEa5CPck"
      },
      "source": [
        "result.to_excel('resultado.xlsx', index=False)"
      ],
      "execution_count": 83,
      "outputs": []
    },
    {
      "cell_type": "markdown",
      "metadata": {
        "id": "5G2BrZMx85gY"
      },
      "source": [
        "# Conclusão\n",
        "- O primeiro modelo apesar de que obteve uma boa acurária, aprendeu bastante sobre a classe marjoritária e muito pouco sobre a classe minoritária\n",
        "- O segundo modelo o maior problema foi a grande redução da base de dados\n",
        "- O terceiro modelo apesar de ter tido fornecido dados sintéticos, acredito que é o modelo mais viável (dependendo da métrica)"
      ]
    },
    {
      "cell_type": "markdown",
      "metadata": {
        "id": "dOg-Ojvs_OWe"
      },
      "source": [
        "## Métricas\n"
      ]
    },
    {
      "cell_type": "markdown",
      "metadata": {
        "id": "50pTJS8ldRrH"
      },
      "source": [
        "## Precision\n",
        "- dos casos que eu previ como positivos (para uma classe) quantos realmente são?\n",
        "- orçamento *interessa*\n",
        "\n",
        "## Recall\n",
        "- dos que eram realmente positivos (para uma classe) quantos eu detectei?\n",
        "- taxa de detecção\n",
        "- orçamento não pesa\n",
        "\n",
        "## F1 Score\n",
        "- média harmônica entre os dois acima"
      ]
    }
  ]
}